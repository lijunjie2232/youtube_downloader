{
  "cells": [
    {
      "cell_type": "code",
      "execution_count": null,
      "metadata": {
        "id": "l15mbHeRaDeR"
      },
      "outputs": [],
      "source": [
        "!python -m pip install git+https://github.com/pytube/pytube\n",
        "!pip uninstall aligo -y"
      ]
    },
    {
      "cell_type": "code",
      "execution_count": null,
      "metadata": {
        "id": "STfbk9O8OkDe"
      },
      "outputs": [],
      "source": [
        "from pytube import YouTube, Playlist\n",
        "from threading import Thread, Semaphore\n",
        "from time import ctime, sleep\n",
        "from math import log, ceil\n",
        "from tqdm.notebook import tqdm\n",
        "import os\n",
        "import random\n",
        "import re\n"
      ]
    },
    {
      "cell_type": "code",
      "execution_count": null,
      "metadata": {
        "id": "xKNmtUebOkDf"
      },
      "outputs": [],
      "source": [
        "!rm -rf ./*"
      ]
    },
    {
      "cell_type": "code",
      "execution_count": null,
      "metadata": {
        "id": "GtQfN8u7OkDg"
      },
      "outputs": [],
      "source": [
        "class videoDownloader(Thread):\n",
        "    def __init__(self,video=None,id=''):\n",
        "        super().__init__()\n",
        "        self.yt = video\n",
        "        self.complete = False\n",
        "        self.title = re.sub('[/:*?\"<>|]','|', self.yt.title)\n",
        "        if len(self.title) > 66:\n",
        "          self.title = self.title[:66]\n",
        "        self.id = id\n",
        "        if id:\n",
        "          self.id += '_'\n",
        "    def run(self):\n",
        "        # semaLock.acquire()\n",
        "        try:\n",
        "          if self.yt != None:\n",
        "              print(ctime() + \" \" + self.id + self.yt.title + \": downloading ...\")\n",
        "              if  dlvideo:\n",
        "                  self.downloadVideo()\n",
        "              elif dlaudio:\n",
        "                  self.downloadAudio()\n",
        "              if dlsubtitle:\n",
        "                  self.downloadSubtitle()\n",
        "              print(ctime() + \" \" + self.id + self.yt.title + \": complete.\")\n",
        "              sleep(7)\n",
        "        except Exception as e:\n",
        "          print(ctime() + \" \" + self.id + self.yt.title + \": \" + e)\n",
        "        finally:\n",
        "          self.complete = True\n",
        "    def setvideo(self, video):\n",
        "        self.yt = video\n",
        "    def downloadVideo(self):\n",
        "        videoss = self.yt.streams\n",
        "\n",
        "        if res < 8 and res > -1:\n",
        "            availableStream = []\n",
        "            resolution_index = res\n",
        "            mime_t = limit['mime_type']\n",
        "            type = limit['type']\n",
        "            videos = videoss.filter(mime_type=mime_type[type][mime_t])\n",
        "\n",
        "            while len(availableStream) == 0 and resolution_index > -1:\n",
        "                availableStream = videos.filter(resolution=resolution[resolution_index])\n",
        "                if type == 'video' and len(availableStream.filter(fps=60)) != 0:\n",
        "                    availableStream = availableStream.filter(fps=60)\n",
        "                    \n",
        "\n",
        "                resolution_index -= 1\n",
        "\n",
        "            if len(availableStream) == 0:\n",
        "                availableStream = self.yt.get_highest_resolution()\n",
        "\n",
        "        elif res == -1:\n",
        "            availableStream = self.yt.get_lowest_resolution()\n",
        "\n",
        "        else:\n",
        "            availableStream = self.yt.get_highest_resolution()\n",
        "\n",
        "\n",
        "        availableStream = availableStream[-1]\n",
        "        if not availableStream.is_progressive and dlaudio:\n",
        "            self.downloadAudio()\n",
        "        availableStream.download(output_path='/content/video/', filename=self.id+self.title)\n",
        "        \n",
        "        \n",
        "    def downloadAudio(self):\n",
        "        audio = self.yt.streams.get_audio_only()\n",
        "        audio.download(output_path='/content/audio/', filename=self.id+self.title)\n",
        "        \n",
        "    def downloadSubtitle(self):\n",
        "        for i in cpt_lang:\n",
        "            caption = self.yt.captions.get_by_language_code(i)\n",
        "            if caption != None:\n",
        "                caption.download(title=self.id+self.title, srt=False, output_path='/content/subtitle/')\n"
      ]
    },
    {
      "cell_type": "code",
      "execution_count": null,
      "metadata": {
        "id": "x5tK1lREOkDj"
      },
      "outputs": [],
      "source": [
        "for output_dir in ['/content/subtitle/', '/content/audio/', '/content/video/']:\n",
        "    if not os.path.exists(output_dir):\n",
        "        # os.makedirs 传入一个path路径，生成一个递归的文件夹；如果文件夹存在，就会报错,因此创建文件夹之前，需要使用os.path.exists(path)函数判断文件夹是否存在；\n",
        "        os.makedirs(output_dir)"
      ]
    },
    {
      "cell_type": "code",
      "execution_count": null,
      "metadata": {
        "id": "00Zv1QIkOkDk"
      },
      "outputs": [],
      "source": [
        "def playlistDownloader(url):\n",
        "    video_list = Playlist(url).videos\n",
        "    cnt = 1\n",
        "    width = ceil(log(len(video_list)+1, 10))\n",
        "\n",
        "\n",
        "    thread_list = []\n",
        "    print('analyzing ...')\n",
        "    test_h = 0\n",
        "    test_l = 0\n",
        "    for i in range(3):\n",
        "        test_num = int(random.random() * (len(video_list)-1))\n",
        "        if test_num < 0:\n",
        "            test_num = 0\n",
        "        test_h += video_list[test_num].streams.get_highest_resolution().filesize/1024/1024\n",
        "        test_l += video_list[test_num].streams.get_lowest_resolution().filesize/1024/1024\n",
        "    test_h /= 3\n",
        "    test_l /= 3\n",
        "    print(\"there are %d pieces of video in this playlist\"%len(video_list))\n",
        "    mode = input('the highest resolution takes about %dMB and the lowest resolution takes about %dMB, devide download lists?(y/n):'%(test_h, test_l))\n",
        "    if mode == 'n':\n",
        "        usethread = input('enable threads?(y/n)')\n",
        "        if usethread == 'y':\n",
        "            for video in video_list:\n",
        "                while len(thread_list) == maxSubThreadNumber:\n",
        "                  sleep(5)\n",
        "                  for i in thread_list:\n",
        "                    if i.complete:\n",
        "                      thread_list.remove(i)\n",
        "                t = videoDownloader(video=video,id=str(cnt).zfill(width))\n",
        "                thread_list.append(t)\n",
        "                t.start()\n",
        "                cnt += 1\n",
        "                \n",
        "        elif usethread == 'n':\n",
        "            for video in video_list:\n",
        "              t = videoDownloader(video=video,id=str(cnt).zfill(width))\n",
        "              t.run()\n",
        "              cnt += 1\n",
        "    elif mode == 'y':\n",
        "        start = int(input('start at:')) - 1\n",
        "        end = int(input('end on:'))\n",
        "        if start < 0:\n",
        "            start = 0\n",
        "        if end > len(video_list):\n",
        "            end = len(video_list)\n",
        "        for i in range(start, end):\n",
        "            try:\n",
        "                while len(thread_list) == maxSubThreadNumber:\n",
        "                  sleep(5)\n",
        "                  for d in thread_list:\n",
        "                    if d.complete:\n",
        "                      thread_list.remove(d)\n",
        "                t = videoDownloader(video_list[i],id=str(i+1).zfill(width))\n",
        "                thread_list.append(t)\n",
        "                t.start()\n",
        "            except Exception as e:\n",
        "                print(e)\n",
        "                pass\n",
        "      \n",
        "    while thread_list:\n",
        "      print(str(len(thread_list)) + \" task in queue, waiting ...\")\n",
        "      sleep(10)\n",
        "      for i in thread_list:\n",
        "        if i.complete:\n",
        "          thread_list.remove(i)\n",
        "    print(\"download complete.\")\n"
      ]
    },
    {
      "cell_type": "code",
      "execution_count": null,
      "metadata": {
        "id": "9788QEhuOkDl"
      },
      "outputs": [],
      "source": [
        "limit = {\n",
        "    \"type\": \"video\",\n",
        "    \"mime_type\": \"mp4\"\n",
        "}\n",
        "\n",
        "res = 5 # [0,7] higher -> better\n",
        "\n",
        "mime_type = {\n",
        "    \"video\":{\"mp4\":\"video/mp4\", \"3gpp\":\"video/3gpp\", \"webm\":\"video/webm\"},\n",
        "    \"audio\":{\"mp4\":\"audio/mp4\", \"webm\":\"audio/webm\"}\n",
        "}\n",
        "# resolution = [\"2160p\", \"1440p\", \"1080p\", \"720p\", \"480p\", \"360p\", \"240p\", \"144p\"]\n",
        "resolution = ['144p', '240p', '360p', '480p', '720p', '1080p', '1440p', '2160p']\n",
        "fps = [60, 30]\n",
        "\n",
        "cpt_lang = [\n",
        "    'en',\n",
        "    'ja',\n",
        "    'zh-TW',\n",
        "    'zh-CN'\n",
        "]"
      ]
    },
    {
      "cell_type": "code",
      "execution_count": null,
      "metadata": {
        "id": "699DSqXyuEnb"
      },
      "outputs": [],
      "source": [
        "def single_url():\n",
        "  url = input(\"url of a playlist or video: \")\n",
        "  if 'playlist' in url:\n",
        "      zip_name = url[34:]\n",
        "      playlistDownloader(url)\n",
        "  elif 'watch' in url:\n",
        "      zip_name = url[32:43]\n",
        "      vd = videoDownloader(video=YouTube(url))\n",
        "      vd.start()\n",
        "      vd.join()"
      ]
    },
    {
      "cell_type": "code",
      "execution_count": 14,
      "metadata": {
        "id": "mJZNf6LtuInZ"
      },
      "outputs": [],
      "source": [
        "def multi_utl():\n",
        "    url_list = set()\n",
        "    url = input(\"input url of videos or type 'exit' or lick Enter to stop add url\")\n",
        "    while('watch' in url):\n",
        "        url_list.add(url)\n",
        "        url = input(\"input url of videos or type 'exit' or lick Enter to stop add url\")\n",
        "    zip_name = 'video_list'\n",
        "    print(url_list)\n",
        "\n",
        "    url_list = list(url_list)\n",
        "\n",
        "        \n",
        "    usethread = input('enable threads?(y/n)')\n",
        "    if usethread == 'y':\n",
        "        thread_list = []\n",
        "        for url in url_list:\n",
        "            vd = videoDownloader(video=YouTube(url))\n",
        "            while len(thread_list) == maxSubThreadNumber:\n",
        "                sleep(5)\n",
        "                for i in thread_list:\n",
        "                    if i.complete:\n",
        "                        thread_list.remove(i)\n",
        "            thread_list.append(vd)\n",
        "            vd.start()\n",
        "        while thread_list:\n",
        "            print(str(len(thread_list)) + \" task in queue, waiting ...\")\n",
        "            sleep(10)\n",
        "            for i in thread_list:\n",
        "                if i.complete:\n",
        "                    thread_list.remove(i)\n",
        "            print(\"download complete.\")\n",
        "    else:\n",
        "        for url in url_list:\n",
        "            vd = videoDownloader(video=YouTube(url))\n",
        "            vd.run()"
      ]
    },
    {
      "cell_type": "code",
      "execution_count": null,
      "metadata": {
        "id": "OHDIxz-IOkDl"
      },
      "outputs": [],
      "source": [
        "maxSubThreadNumber = 8 # the max numbers of file download at the same time if thread is enabled\n",
        "zip_name = None\n",
        "semaLock = None\n",
        "# count = 0\n",
        "\n",
        "\n",
        "dlvideo = True\n",
        "dlaudio = True\n",
        "dlsubtitle = False\n",
        "\n",
        "# thread_list = []\n",
        "\n",
        "\n",
        "if(input(\"use url list to download video lists(only support urls of videos, not playlist)?(y/n)\") == 'n'):\n",
        "    single_url()\n",
        "else:\n",
        "    multi_utl()\n"
      ]
    },
    {
      "cell_type": "code",
      "execution_count": null,
      "metadata": {
        "id": "raQRIFctOkDm"
      },
      "outputs": [],
      "source": [
        "ctn = input('continue?(y/n)')\n",
        "if ctn != 'y':\n",
        "    raise Exception('user stop')"
      ]
    },
    {
      "cell_type": "code",
      "execution_count": null,
      "metadata": {
        "id": "P5sI1Et_lDo6"
      },
      "outputs": [],
      "source": [
        "old_name = zip_name\n",
        "ctn = input('specified zip_name?(input name.../n)')\n",
        "if ctn and ctn != 'n':\n",
        "    zip_name = re.sub('[&/:*?\"<>| ]','_',ctn)\n",
        "    print(\"name: \" + zip_name)"
      ]
    },
    {
      "cell_type": "code",
      "execution_count": null,
      "metadata": {
        "id": "S7ZZ_FpROkDm"
      },
      "outputs": [],
      "source": [
        "os.system('mkdir ' + zip_name)\n",
        "os.system('mv ./* ./' + zip_name)"
      ]
    },
    {
      "cell_type": "code",
      "execution_count": null,
      "metadata": {
        "id": "KNjkzfYkSC7Y"
      },
      "outputs": [],
      "source": [
        "!pwd"
      ]
    },
    {
      "cell_type": "code",
      "execution_count": null,
      "metadata": {
        "id": "lah12RjnOkDn"
      },
      "outputs": [],
      "source": [
        "from IPython.display import FileLink\n",
        "for dirname, _, filenames in os.walk('/content/%s'%zip_name):\n",
        "    for filename in filenames:\n",
        "        print(os.path.join(dirname, filename))"
      ]
    },
    {
      "cell_type": "code",
      "execution_count": null,
      "metadata": {
        "id": "X8NM6f6BOkDn"
      },
      "outputs": [],
      "source": [
        "!pip uninstall aligo -y\n",
        "!python -m pip install git+https://github.com/lijunjie2232/alg_modify.git"
      ]
    },
    {
      "cell_type": "code",
      "execution_count": null,
      "metadata": {
        "id": "jJT9p4UWOkDo"
      },
      "outputs": [],
      "source": [
        "from aligo import Aligo\n",
        "# from tqdm.notebook import tqdm\n",
        "import shutil"
      ]
    },
    {
      "cell_type": "code",
      "execution_count": null,
      "metadata": {
        "id": "d6Xun48mOkDo"
      },
      "outputs": [],
      "source": [
        "rft = input('refresh_token: ')\n",
        "ali = Aligo(refresh_token=rft,level=20)"
      ]
    },
    {
      "cell_type": "code",
      "execution_count": null,
      "metadata": {
        "id": "PUIEDrUIOkDo"
      },
      "outputs": [],
      "source": [
        "user = ali.get_user()\n",
        "print(user.user_name, user.nick_name, user.phone)  # 打印用户信息"
      ]
    },
    {
      "cell_type": "code",
      "execution_count": null,
      "metadata": {
        "id": "XQK5ap6sOkDp"
      },
      "outputs": [],
      "source": [
        "ll = ali.get_file_list()  # 获取网盘根目录文件列表\n",
        "for file in ll:  # 遍历文件列表\n",
        "    print(file.file_id, file.name, file.type)  # 打印文件信息"
      ]
    },
    {
      "cell_type": "code",
      "execution_count": null,
      "metadata": {
        "id": "mqDxEIj-R2Pp"
      },
      "outputs": [],
      "source": [
        "zip_name"
      ]
    },
    {
      "cell_type": "code",
      "execution_count": null,
      "metadata": {
        "id": "WcxdNYsbOkDp"
      },
      "outputs": [],
      "source": [
        "result = ali.create_folder(zip_name) # make dir on aliyun drive\n",
        "print(result)"
      ]
    },
    {
      "cell_type": "code",
      "execution_count": null,
      "metadata": {
        "id": "54c6viuUOkDp"
      },
      "outputs": [],
      "source": [
        "upload = input(\"upload?(y/n)\")\n",
        "if upload == 'y':\n",
        "    is_z = input(\"excute to zip(this op will lead origin files to be deleted)?(y/n)\")\n",
        "    if is_z == 'y':\n",
        "      is_z_rc = input(\"please reconfirm?(y/n)\")\n",
        "      if is_z_rc == 'y':\n",
        "        os.system(\"tar -cvjf %s.tar.bz2 ./%s/* --remove-files\"%(zip_name, zip_name))\n",
        "        os.rename(zip_name+'.tar.bz2',zip_name+'.tar.bz2'+'.pdf')\n",
        "        os.system(\"mv %s %s\" %(zip_name+'.tar.bz2'+'.pdf', zip_name))\n",
        "    # os.system(\"rename 's/\\.mp4/\\.pdf/'  ./%s/*\"%zip_name)\n",
        "    else:\n",
        "      # os.system('mkdir \"/content/%s\"' %zip_name)\n",
        "      # os.system('mv /content/* \"/content/%s\"' %zip_name)\n",
        "      for dirname, _, filenames in os.walk('/content/'+zip_name+'/video'):\n",
        "          for filename in filenames:\n",
        "            os.rename(os.path.join(dirname, filename),os.path.join(dirname, filename)+'.mp4.pdf')\n",
        "            os.system('mv \"%s\" \"%s\"' % (os.path.join(dirname, filename)+'.mp4.pdf','/content/'+zip_name))\n",
        "\n",
        "      for dirname, _, filenames in os.walk('/content/'+zip_name+'/subtitle'):\n",
        "          for filename in filenames:\n",
        "            os.rename(os.path.join(dirname, filename),os.path.join(dirname, filename)+'.xml.pdf')\n",
        "            os.system('mv \"%s\" \"%s\"' % (os.path.join(dirname, filename)+'.xml.pdf','/content/'+zip_name))\n",
        "\n",
        "      for dirname, _, filenames in os.walk('/content/'+zip_name+'/audio'):\n",
        "          for filename in filenames:\n",
        "            os.rename(os.path.join(dirname, filename),os.path.join(dirname, filename)+'.mp3.pdf')\n",
        "            os.system('mv \"%s\" \"%s\"' % (os.path.join(dirname, filename)+'.mp3.pdf','/content/'+zip_name))\n",
        "            \n",
        "      os.system('rm -rf \"/content/%s/video\"' % zip_name)\n",
        "      os.system('rm -rf \"/content/%s/audio\"' % zip_name)\n",
        "      os.system('rm -rf \"/content/%s/subtitle\"' % zip_name)\n",
        "elif upload == 'n':\n",
        "    os.system(\"tar -cvjf %s.tar.bz2 ./%s/* --remove-files\"%(zip_name, zip_name))\n",
        "#     FileLink(zip_name + '.tar.bz2')"
      ]
    },
    {
      "cell_type": "code",
      "execution_count": null,
      "metadata": {
        "id": "aX9nl95ogkyw"
      },
      "outputs": [],
      "source": [
        "upload = input(\"continue to upload?(y/n)\")\n",
        "\n",
        "if upload == 'y':\n",
        "    ali.upload_folder('/content/'+zip_name, remove_file_needed=True)"
      ]
    },
    {
      "cell_type": "code",
      "execution_count": null,
      "metadata": {
        "id": "6oh-E-qtpXef"
      },
      "outputs": [],
      "source": []
    },
    {
      "cell_type": "markdown",
      "metadata": {
        "id": "5-2Pi9D4g9oU"
      },
      "source": []
    },
    {
      "cell_type": "code",
      "execution_count": null,
      "metadata": {
        "id": "LZeX-u-QOkDq"
      },
      "outputs": [],
      "source": [
        "# FileLink(zip_name + '.tar.bz2')"
      ]
    },
    {
      "cell_type": "code",
      "execution_count": null,
      "metadata": {
        "id": "LiDPCeaZOkDq"
      },
      "outputs": [],
      "source": [
        "# zip_name"
      ]
    },
    {
      "cell_type": "code",
      "execution_count": null,
      "metadata": {
        "id": "C_RLIiRQb11D"
      },
      "outputs": [],
      "source": []
    },
    {
      "cell_type": "code",
      "execution_count": null,
      "metadata": {
        "id": "BGFMpCAKb21k"
      },
      "outputs": [],
      "source": []
    }
  ],
  "metadata": {
    "colab": {
      "provenance": []
    },
    "gpuClass": "standard",
    "kernelspec": {
      "display_name": "Python 3",
      "language": "python",
      "name": "python3"
    },
    "language_info": {
      "codemirror_mode": {
        "name": "ipython",
        "version": 3
      },
      "file_extension": ".py",
      "mimetype": "text/x-python",
      "name": "python",
      "nbconvert_exporter": "python",
      "pygments_lexer": "ipython3",
      "version": "3.7.12"
    }
  },
  "nbformat": 4,
  "nbformat_minor": 0
}